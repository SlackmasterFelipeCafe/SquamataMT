{
 "cells": [
  {
   "cell_type": "markdown",
   "metadata": {},
   "source": [
    "## SquamataMT - Jupyter notebook for releasing MT data to ScienceBase\n",
    "\n",
    "This module performs the following operations:\n",
    "- Quick tips on Jupyter Notebook\n",
    "- Introduction to the 'os', 'shutil', 'sys' modules\n",
    "- Expore MT Data Listings\n",
    "- Metadata Wizard - Thanks to C. Talbert, A. Freeman\n",
    "- Quick tips on Jupyter Notebook\n",
    "- Follow along, multiple monitor suggestions.\n",
    "- Introduction to the 'os', 'shutil', 'sys' modules\n",
    "- Creating folders and copying files\n",
    "- Listing files\n",
    "- String manipulation and parsing\n",
    "- List iteration\n",
    "- Python print statements\n",
    "- 'Try / catch' code construction\n",
    "- Strategic organization of data resources\n",
    "- Scratch workspace\n",
    "\n",
    "To execute a function/command select a cell and Hold-Shift + Press-Enter\n",
    "\n",
    "**The 'r' signifies a string literal. Use for paths.**\n",
    "\n",
    "Metadata wizard:  Advanced, Open In a jupyter Notebook?\n",
    "Metadata Wizard 2.o from ScienceBase"
   ]
  },
  {
   "cell_type": "code",
   "execution_count": null,
   "metadata": {},
   "outputs": [],
   "source": [
    "#Phil Brown (pbrown@usgs.gov) 2018\n",
    "#Working Python 3 Notebook used to facilitate the release of Magnetotelluric (MT) Data to ScienceBase."
   ]
  },
  {
   "cell_type": "code",
   "execution_count": 1,
   "metadata": {},
   "outputs": [
    {
     "name": "stdout",
     "output_type": "stream",
     "text": [
      "Jupyter is working.\n"
     ]
    }
   ],
   "source": [
    "# Test Cell\n",
    "print (\"Jupyter is working.\") #To run this cell, hold down Shift and press Enter."
   ]
  },
  {
   "cell_type": "code",
   "execution_count": 28,
   "metadata": {},
   "outputs": [],
   "source": [
    "# Load required Libraries\n",
    "import sys\n",
    "import os\n",
    "import zipfile\n",
    "import pysb\n",
    "import requests\n",
    "import shutil\n",
    "from shutil import copyfile\n",
    "import zipfile\n",
    "import datetime\n",
    "import glob\n",
    "from lxml import etree\n",
    "import json\n",
    "import pickle\n",
    "import shutil"
   ]
  },
  {
   "cell_type": "code",
   "execution_count": 16,
   "metadata": {},
   "outputs": [],
   "source": [
    "#Set Data Paths - perhaps we'll get a user form to do this some day?\n",
    "mtDataPath = r\"C:\\CurrentWork\\DataReleases\\SquamataMT_TEST\" #The 'r' signifies a string literal. Use for paths.\n",
    "mtMataDataTemplatePath = r\"C:\\CurrentWork\\DataManagement\\SquamataMT\"\n",
    "mtMataDataTemplateName = \"MT-MetaData_TEMPLATE.xml\""
   ]
  },
  {
   "cell_type": "code",
   "execution_count": 50,
   "metadata": {},
   "outputs": [
    {
     "name": "stdout",
     "output_type": "stream",
     "text": [
      "The MT Data Path is: \"C:\\CurrentWork\\DataReleases\\SquamataMT_TEST\"\n"
     ]
    },
    {
     "data": {
      "text/plain": [
       "'C:\\\\CurrentWork\\\\DataReleases\\\\SquamataMT_TEST'"
      ]
     },
     "execution_count": 50,
     "metadata": {},
     "output_type": "execute_result"
    }
   ],
   "source": [
    "#Check Paths for the fun of it\n",
    "print ('The MT Data Path is: ' + '\"' + mtDataPath + '\"')\n",
    "mtDataPath"
   ]
  },
  {
   "cell_type": "markdown",
   "metadata": {},
   "source": [
    "## Now, let's explore our data. \n",
    "- What files do we have? \n",
    "- What files do we import values from?"
   ]
  },
  {
   "cell_type": "code",
   "execution_count": 43,
   "metadata": {},
   "outputs": [],
   "source": [
    "#Review content in file explorer"
   ]
  },
  {
   "cell_type": "code",
   "execution_count": 44,
   "metadata": {},
   "outputs": [
    {
     "data": {
      "text/plain": [
       "['mt01', 'mt02', 'mt03', 'mt04', 'mt05']"
      ]
     },
     "execution_count": 44,
     "metadata": {},
     "output_type": "execute_result"
    }
   ],
   "source": [
    "mtDataDirList = os.listdir(mtDataPath)\n",
    "mtDataDirList"
   ]
  },
  {
   "cell_type": "code",
   "execution_count": 34,
   "metadata": {},
   "outputs": [
    {
     "data": {
      "text/plain": [
       "'C:\\\\CurrentWork\\\\DataReleases\\\\SquamataMT_TEST\\\\mt01'"
      ]
     },
     "execution_count": 34,
     "metadata": {},
     "output_type": "execute_result"
    }
   ],
   "source": [
    "mtStationPath = mtDataPath + '\\\\' + mtDataDirList[0]\n",
    "mtStationPath"
   ]
  },
  {
   "cell_type": "code",
   "execution_count": 42,
   "metadata": {},
   "outputs": [
    {
     "data": {
      "text/plain": [
       "['C:\\\\CurrentWork\\\\DataReleases\\\\SquamataMT_TEST\\\\mt01\\\\USA-Utah-Tooele-2003-MT01.edi']"
      ]
     },
     "execution_count": 42,
     "metadata": {},
     "output_type": "execute_result"
    }
   ],
   "source": [
    "#Look for EDI file to load\n",
    "ediList = glob.glob(os.path.join(mtStationPath, '**/*MT*.edi'),  recursive=True)\n",
    "ediList"
   ]
  },
  {
   "cell_type": "markdown",
   "metadata": {},
   "source": [
    "## Lets now import and index values from the EDI Files\n",
    "- We need these values for the metadata template.  \n",
    "- We also want to run stats on some of these values for the entity and attributes section"
   ]
  },
  {
   "cell_type": "markdown",
   "metadata": {},
   "source": [
    "## Process Logging\n",
    "We probally at some point want to trap errors and post them to an array or something to be called and listed in a file after the processing is complete."
   ]
  },
  {
   "cell_type": "code",
   "execution_count": null,
   "metadata": {},
   "outputs": [],
   "source": [
    "#Process Logging\n",
    "\n",
    "pl = os.path.join(training_materials_path, \"Scratch_Workspace\",'ProcessingLog.txt')\n",
    "process_log = open(pl,'w') # Can also use 'append' mode\n",
    "\n",
    "process_log.write(str(datetime.datetime.now()))\n",
    "process_log.write(\"\\nSomething was performed.\")\n",
    "process_log.write(\"\\nSomething else was done.\")\n",
    "process_log.write(\"\\nWe can record information about what a script was doing in a notes/processing file.\")\n",
    "\n",
    "process_log.close()\n",
    "\n",
    "print (\"Process log saved at:\", pl)"
   ]
  }
 ],
 "metadata": {
  "kernelspec": {
   "display_name": "Python 3",
   "language": "python",
   "name": "python3"
  },
  "language_info": {
   "codemirror_mode": {
    "name": "ipython",
    "version": 3
   },
   "file_extension": ".py",
   "mimetype": "text/x-python",
   "name": "python",
   "nbconvert_exporter": "python",
   "pygments_lexer": "ipython3",
   "version": "3.6.4"
  }
 },
 "nbformat": 4,
 "nbformat_minor": 2
}
